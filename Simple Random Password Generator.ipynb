{
 "cells": [
  {
   "cell_type": "markdown",
   "id": "0decded5",
   "metadata": {},
   "source": [
    "# Random"
   ]
  },
  {
   "cell_type": "code",
   "execution_count": 3,
   "id": "b329aff2",
   "metadata": {},
   "outputs": [],
   "source": [
    "import random"
   ]
  },
  {
   "cell_type": "code",
   "execution_count": 4,
   "id": "ceee5299",
   "metadata": {},
   "outputs": [
    {
     "data": {
      "text/plain": [
       "5"
      ]
     },
     "execution_count": 4,
     "metadata": {},
     "output_type": "execute_result"
    }
   ],
   "source": [
    "random.randint(1,10)"
   ]
  },
  {
   "cell_type": "code",
   "execution_count": 5,
   "id": "7e302a38",
   "metadata": {},
   "outputs": [
    {
     "data": {
      "text/plain": [
       "'Noodle'"
      ]
     },
     "execution_count": 5,
     "metadata": {},
     "output_type": "execute_result"
    }
   ],
   "source": [
    "mealChoice = [\"Pad Thai\",\"Krapow\",\"Noodle\"]\n",
    "random.choice(mealChoice)"
   ]
  },
  {
   "cell_type": "code",
   "execution_count": 7,
   "id": "7903f03a",
   "metadata": {},
   "outputs": [
    {
     "data": {
      "text/plain": [
       "['Sushi', 'Steak', 'Pad Thai']"
      ]
     },
     "execution_count": 7,
     "metadata": {},
     "output_type": "execute_result"
    }
   ],
   "source": [
    "mealChoice = [\"Pad Thai\", \"Krapow\",\"Noodle\",\"Sushi\",\"Steak\"]\n",
    "random.sample(mealChoice,3)"
   ]
  },
  {
   "cell_type": "markdown",
   "id": "21ac4c37",
   "metadata": {},
   "source": [
    "# String Module"
   ]
  },
  {
   "cell_type": "code",
   "execution_count": 9,
   "id": "7e76e377",
   "metadata": {},
   "outputs": [],
   "source": [
    "import string"
   ]
  },
  {
   "cell_type": "code",
   "execution_count": 10,
   "id": "48aee9d1",
   "metadata": {},
   "outputs": [
    {
     "name": "stdout",
     "output_type": "stream",
     "text": [
      "abcdefghijklmnopqrstuvwxyz\n"
     ]
    }
   ],
   "source": [
    "result = string.ascii_lowercase\n",
    "print(result)"
   ]
  },
  {
   "cell_type": "code",
   "execution_count": 12,
   "id": "34dfb558",
   "metadata": {},
   "outputs": [
    {
     "name": "stdout",
     "output_type": "stream",
     "text": [
      "ABCDEFGHIJKLMNOPQRSTUVWXYZ\n"
     ]
    }
   ],
   "source": [
    "result = string.ascii_uppercase\n",
    "print(result)"
   ]
  },
  {
   "cell_type": "code",
   "execution_count": 13,
   "id": "97017fb5",
   "metadata": {},
   "outputs": [
    {
     "name": "stdout",
     "output_type": "stream",
     "text": [
      "abcdefghijklmnopqrstuvwxyzABCDEFGHIJKLMNOPQRSTUVWXYZ\n"
     ]
    }
   ],
   "source": [
    "result = string.ascii_letters\n",
    "print(result)"
   ]
  },
  {
   "cell_type": "code",
   "execution_count": 14,
   "id": "d766e5c8",
   "metadata": {},
   "outputs": [
    {
     "name": "stdout",
     "output_type": "stream",
     "text": [
      "0123456789\n"
     ]
    }
   ],
   "source": [
    "result = string.digits\n",
    "print(result)"
   ]
  },
  {
   "cell_type": "code",
   "execution_count": 15,
   "id": "ddbcba3b",
   "metadata": {},
   "outputs": [
    {
     "name": "stdout",
     "output_type": "stream",
     "text": [
      "!\"#$%&'()*+,-./:;<=>?@[\\]^_`{|}~\n"
     ]
    }
   ],
   "source": [
    "result = string.punctuation\n",
    "print(result)"
   ]
  },
  {
   "cell_type": "markdown",
   "id": "10969661",
   "metadata": {},
   "source": [
    "# Random Password Generator"
   ]
  },
  {
   "cell_type": "markdown",
   "id": "a21488c3",
   "metadata": {},
   "source": [
    "1. Get length of the preferred password\n",
    "2. Get the password choice"
   ]
  },
  {
   "cell_type": "markdown",
   "id": "8dfa22f6",
   "metadata": {},
   "source": [
    "    A. Digits only\n",
    "    B. Letters only (lowercase+uppercase)\n",
    "    C. Letters and Digits\n",
    "    D. Letters, Digits, and Punctuations"
   ]
  },
  {
   "cell_type": "markdown",
   "id": "a39af4e1",
   "metadata": {},
   "source": [
    "3. Generate a password of the user's choice and length\n",
    "4. Display the generated password"
   ]
  },
  {
   "cell_type": "code",
   "execution_count": 19,
   "id": "20182caa",
   "metadata": {},
   "outputs": [
    {
     "name": "stdout",
     "output_type": "stream",
     "text": [
      "Please enter length: 8\n",
      "Please enter choice (1: digits only, 2: letters only, 3: digits + letters, 4: digits + letters + punctuations)3\n",
      "The generated password:  uiHb3Qkc\n"
     ]
    }
   ],
   "source": [
    "import random\n",
    "import string\n",
    "\n",
    "length = int(input(\"Please enter length: \"))\n",
    "choice = int(input(\"Please enter choice (1: digits only, 2: letters only, 3: digits + letters, 4: digits + letters + punctuations)\"))\n",
    "\n",
    "if choice == 1:\n",
    "    character = string.digits\n",
    "    password = random.sample(character, length)\n",
    "    password = \"\".join(password)\n",
    "    \n",
    "elif choice == 2:\n",
    "    character = string.ascii__letters\n",
    "    password = random.sample(character, length)\n",
    "    password = \"\".join(password)\n",
    "    \n",
    "elif choice == 3:\n",
    "    character = string.digits + string.ascii_letters\n",
    "    password = random.sample(character, length)\n",
    "    password = \"\".join(password)\n",
    "    \n",
    "elif choice == 4:\n",
    "    character = string.digits + string.ascii_letters + string.punctuation\n",
    "    password = random.sample(character, length)\n",
    "    password = \"\".join(password)\n",
    "    \n",
    "else:\n",
    "    print(\"Wrong choice\")\n",
    "    password = None\n",
    "\n",
    "print(\"The generated password: \", password)\n",
    "    "
   ]
  },
  {
   "cell_type": "markdown",
   "id": "d59e7e5b",
   "metadata": {},
   "source": [
    "# Create a function to handle Password Generating"
   ]
  },
  {
   "cell_type": "code",
   "execution_count": 23,
   "id": "f7d289e7",
   "metadata": {},
   "outputs": [
    {
     "name": "stdout",
     "output_type": "stream",
     "text": [
      "Please enter length: 8\n",
      "Please enter choice (1: digits only, 2: letters only, 3: digits + letters, 4: digits + letters + punctuations)3\n",
      "Generated password:  Y7GZH0Oz\n"
     ]
    }
   ],
   "source": [
    "import string\n",
    "import random\n",
    "\n",
    "def passwordGenerator(length,choice):\n",
    "    if choice == 1:\n",
    "        character = string.digits\n",
    "        password = random.sample(character, length)\n",
    "        password = \"\".join(password)\n",
    "    \n",
    "    elif choice == 2:\n",
    "        character = string.ascii__letters\n",
    "        password = random.sample(character, length)\n",
    "        password = \"\".join(password)\n",
    "    \n",
    "    elif choice == 3:\n",
    "        character = string.digits + string.ascii_letters\n",
    "        password = random.sample(character, length)\n",
    "        password = \"\".join(password)\n",
    "    \n",
    "    elif choice == 4:\n",
    "        character = string.digits + string.ascii_letters + string.punctuation\n",
    "        password = random.sample(character, length)\n",
    "        password = \"\".join(password)\n",
    "    \n",
    "    else:\n",
    "        print(\"Wrong choice\")\n",
    "        password = None\n",
    "    return password\n",
    "\n",
    "length = int(input(\"Please enter length: \"))\n",
    "choice = int(input(\"Please enter choice (1: digits only, 2: letters only, 3: digits + letters, 4: digits + letters + punctuations)\"))\n",
    "generatedPassword = passwordGenerator(length,choice)\n",
    "print(\"Generated password: \", generatedPassword)"
   ]
  },
  {
   "cell_type": "markdown",
   "id": "378ee19e",
   "metadata": {},
   "source": [
    "# Keep asking the user to generate another password until they press \"n\""
   ]
  },
  {
   "cell_type": "code",
   "execution_count": 27,
   "id": "1a4413b2",
   "metadata": {},
   "outputs": [
    {
     "name": "stdout",
     "output_type": "stream",
     "text": [
      "Please enter length: 8\n",
      "Please enter choice (1: digits only, 2: letters only, 3: digits + letters, 4: digits + letters + punctuations): 3\n",
      "Generated password:  USEzF67D\n",
      "Try again? (y/n): n\n"
     ]
    }
   ],
   "source": [
    "import string\n",
    "import random\n",
    "\n",
    "def passwordGenerator(length,choice):\n",
    "    if choice == 1:\n",
    "        character = string.digits\n",
    "        password = random.sample(character, length)\n",
    "        password = \"\".join(password)\n",
    "    \n",
    "    elif choice == 2:\n",
    "        character = string.ascii__letters\n",
    "        password = random.sample(character, length)\n",
    "        password = \"\".join(password)\n",
    "    \n",
    "    elif choice == 3:\n",
    "        character = string.digits + string.ascii_letters\n",
    "        password = random.sample(character, length)\n",
    "        password = \"\".join(password)\n",
    "    \n",
    "    elif choice == 4:\n",
    "        character = string.digits + string.ascii_letters + string.punctuation\n",
    "        password = random.sample(character, length)\n",
    "        password = \"\".join(password)\n",
    "    \n",
    "    else:\n",
    "        print(\"Wrong choice\")\n",
    "        password = None\n",
    "    return password\n",
    "\n",
    "while(True):\n",
    "    length = int(input(\"Please enter length: \"))\n",
    "    choice = int(input(\"Please enter choice (1: digits only, 2: letters only, 3: digits + letters, 4: digits + letters + punctuations): \"))\n",
    "    generatedPassword = passwordGenerator(length,choice)\n",
    "    print(\"Generated password: \", generatedPassword)\n",
    "    checker = input(\"Try again? (y/n): \")\n",
    "    if checker == \"n\":\n",
    "        break"
   ]
  },
  {
   "cell_type": "code",
   "execution_count": null,
   "id": "2be4dcdc",
   "metadata": {},
   "outputs": [],
   "source": []
  }
 ],
 "metadata": {
  "kernelspec": {
   "display_name": "Python 3 (ipykernel)",
   "language": "python",
   "name": "python3"
  },
  "language_info": {
   "codemirror_mode": {
    "name": "ipython",
    "version": 3
   },
   "file_extension": ".py",
   "mimetype": "text/x-python",
   "name": "python",
   "nbconvert_exporter": "python",
   "pygments_lexer": "ipython3",
   "version": "3.11.3"
  }
 },
 "nbformat": 4,
 "nbformat_minor": 5
}
